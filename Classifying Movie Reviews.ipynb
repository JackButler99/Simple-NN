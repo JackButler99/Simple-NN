{
 "cells": [
  {
   "cell_type": "code",
   "execution_count": 1,
   "metadata": {},
   "outputs": [
    {
     "name": "stderr",
     "output_type": "stream",
     "text": [
      "<string>:6: VisibleDeprecationWarning: Creating an ndarray from ragged nested sequences (which is a list-or-tuple of lists-or-tuples-or ndarrays with different lengths or shapes) is deprecated. If you meant to do this, you must specify 'dtype=object' when creating the ndarray\n",
      "C:\\Users\\ridho\\AppData\\Roaming\\Python\\Python37\\site-packages\\keras\\datasets\\imdb.py:155: VisibleDeprecationWarning: Creating an ndarray from ragged nested sequences (which is a list-or-tuple of lists-or-tuples-or ndarrays with different lengths or shapes) is deprecated. If you meant to do this, you must specify 'dtype=object' when creating the ndarray\n",
      "  x_train, y_train = np.array(xs[:idx]), np.array(labels[:idx])\n",
      "C:\\Users\\ridho\\AppData\\Roaming\\Python\\Python37\\site-packages\\keras\\datasets\\imdb.py:156: VisibleDeprecationWarning: Creating an ndarray from ragged nested sequences (which is a list-or-tuple of lists-or-tuples-or ndarrays with different lengths or shapes) is deprecated. If you meant to do this, you must specify 'dtype=object' when creating the ndarray\n",
      "  x_test, y_test = np.array(xs[idx:]), np.array(labels[idx:])\n"
     ]
    }
   ],
   "source": [
    "from keras.datasets import imdb\n",
    "(train_data, train_labels), (test_data, test_labels)= imdb.load_data(num_words=10000)"
   ]
  },
  {
   "cell_type": "code",
   "execution_count": 2,
   "metadata": {},
   "outputs": [],
   "source": [
    "import tensorflow as tf"
   ]
  },
  {
   "cell_type": "code",
   "execution_count": 3,
   "metadata": {},
   "outputs": [],
   "source": [
    "# Encoding the integer sequences into a binary mtrix\n",
    "import numpy as np\n",
    "def vectorize_seq(sequences, dimensions=10000):\n",
    "    results =  np.zeros((len(sequences), dimensions))\n",
    "    for i, sequence in enumerate(sequences):\n",
    "        results[i, sequence] =1\n",
    "    return results\n",
    "\n",
    "x_train = vectorize_seq(train_data)\n",
    "x_test = vectorize_seq(test_data)\n",
    "\n"
   ]
  },
  {
   "cell_type": "code",
   "execution_count": 4,
   "metadata": {},
   "outputs": [],
   "source": [
    "y_train = np.asarray(train_labels).astype('float32')\n",
    "y_test = np.asarray(test_labels).astype('float32')"
   ]
  },
  {
   "cell_type": "code",
   "execution_count": 5,
   "metadata": {},
   "outputs": [
    {
     "data": {
      "text/plain": [
       "array([[0., 1., 1., ..., 0., 0., 0.],\n",
       "       [0., 1., 1., ..., 0., 0., 0.],\n",
       "       [0., 1., 1., ..., 0., 0., 0.],\n",
       "       ...,\n",
       "       [0., 1., 1., ..., 0., 0., 0.],\n",
       "       [0., 1., 1., ..., 0., 0., 0.],\n",
       "       [0., 1., 1., ..., 0., 0., 0.]])"
      ]
     },
     "execution_count": 5,
     "metadata": {},
     "output_type": "execute_result"
    }
   ],
   "source": [
    "x_train"
   ]
  },
  {
   "cell_type": "code",
   "execution_count": 6,
   "metadata": {},
   "outputs": [
    {
     "data": {
      "text/plain": [
       "array([1., 0., 0., ..., 0., 1., 0.], dtype=float32)"
      ]
     },
     "execution_count": 6,
     "metadata": {},
     "output_type": "execute_result"
    }
   ],
   "source": [
    "y_train"
   ]
  },
  {
   "cell_type": "code",
   "execution_count": 7,
   "metadata": {},
   "outputs": [],
   "source": [
    "from keras import models\n",
    "from keras import layers\n",
    "\n",
    "model = models.Sequential()\n",
    "model.add(layers.Dense(32, activation = 'tanh', input_shape=(10000,)))\n",
    "# model.add(layers.Dense(32, activation = 'relu'))\n",
    "model.add(layers.Dense(1, activation = 'sigmoid'))\n"
   ]
  },
  {
   "cell_type": "markdown",
   "metadata": {},
   "source": [
    "model"
   ]
  },
  {
   "cell_type": "code",
   "execution_count": 8,
   "metadata": {},
   "outputs": [
    {
     "data": {
      "text/plain": [
       "<keras.engine.sequential.Sequential at 0x1bc1ed78ec8>"
      ]
     },
     "execution_count": 8,
     "metadata": {},
     "output_type": "execute_result"
    }
   ],
   "source": [
    "model"
   ]
  },
  {
   "cell_type": "code",
   "execution_count": 9,
   "metadata": {},
   "outputs": [],
   "source": [
    "from keras import optimizers\n",
    "\n",
    "model.compile(optimizer= 'rmsprop',\n",
    "             loss='binary_crossentropy',\n",
    "             metrics= ['accuracy'])"
   ]
  },
  {
   "cell_type": "code",
   "execution_count": 10,
   "metadata": {},
   "outputs": [
    {
     "name": "stdout",
     "output_type": "stream",
     "text": [
      "Epoch 1/20\n",
      "49/49 [==============================] - 43s 154ms/step - loss: 0.5145 - acc: 0.7520 - val_loss: 0.3286 - val_acc: 0.8748\n",
      "Epoch 2/20\n",
      "49/49 [==============================] - 5s 94ms/step - loss: 0.2504 - acc: 0.9168 - val_loss: 0.2905 - val_acc: 0.8828\n",
      "Epoch 3/20\n",
      "49/49 [==============================] - 5s 93ms/step - loss: 0.1844 - acc: 0.9381 - val_loss: 0.2864 - val_acc: 0.8866\n",
      "Epoch 4/20\n",
      "49/49 [==============================] - 5s 94ms/step - loss: 0.1493 - acc: 0.9474 - val_loss: 0.3037 - val_acc: 0.8832\n",
      "Epoch 5/20\n",
      "49/49 [==============================] - 5s 93ms/step - loss: 0.1280 - acc: 0.9572 - val_loss: 0.3323 - val_acc: 0.8771\n",
      "Epoch 6/20\n",
      "49/49 [==============================] - 5s 93ms/step - loss: 0.1065 - acc: 0.9636 - val_loss: 0.3926 - val_acc: 0.8645\n",
      "Epoch 7/20\n",
      "49/49 [==============================] - 5s 94ms/step - loss: 0.0923 - acc: 0.9707 - val_loss: 0.3958 - val_acc: 0.8687\n",
      "Epoch 8/20\n",
      "49/49 [==============================] - 5s 100ms/step - loss: 0.0825 - acc: 0.9737 - val_loss: 0.4318 - val_acc: 0.8660\n",
      "Epoch 9/20\n",
      "49/49 [==============================] - 5s 94ms/step - loss: 0.0718 - acc: 0.9770 - val_loss: 0.4702 - val_acc: 0.8632\n",
      "Epoch 10/20\n",
      "49/49 [==============================] - 5s 96ms/step - loss: 0.0646 - acc: 0.9797 - val_loss: 0.5197 - val_acc: 0.8600\n",
      "Epoch 11/20\n",
      "49/49 [==============================] - 5s 96ms/step - loss: 0.0599 - acc: 0.9825 - val_loss: 0.5515 - val_acc: 0.8571\n",
      "Epoch 12/20\n",
      "49/49 [==============================] - 5s 96ms/step - loss: 0.0531 - acc: 0.9844 - val_loss: 0.5957 - val_acc: 0.8557\n",
      "Epoch 13/20\n",
      "49/49 [==============================] - 5s 96ms/step - loss: 0.0448 - acc: 0.9871 - val_loss: 0.6478 - val_acc: 0.8529\n",
      "Epoch 14/20\n",
      "49/49 [==============================] - 5s 98ms/step - loss: 0.0402 - acc: 0.9884 - val_loss: 0.6993 - val_acc: 0.8503\n",
      "Epoch 15/20\n",
      "49/49 [==============================] - 5s 101ms/step - loss: 0.0359 - acc: 0.9903 - val_loss: 0.7531 - val_acc: 0.8481\n",
      "Epoch 16/20\n",
      "49/49 [==============================] - 5s 97ms/step - loss: 0.0347 - acc: 0.9892 - val_loss: 0.8726 - val_acc: 0.8373\n",
      "Epoch 17/20\n",
      "49/49 [==============================] - 5s 97ms/step - loss: 0.0291 - acc: 0.9924 - val_loss: 0.8469 - val_acc: 0.8440\n",
      "Epoch 18/20\n",
      "49/49 [==============================] - 5s 98ms/step - loss: 0.0249 - acc: 0.9928 - val_loss: 0.8907 - val_acc: 0.8447\n",
      "Epoch 19/20\n",
      "49/49 [==============================] - 5s 97ms/step - loss: 0.0228 - acc: 0.9940 - val_loss: 0.9597 - val_acc: 0.8409\n",
      "Epoch 20/20\n",
      "49/49 [==============================] - 5s 99ms/step - loss: 0.0186 - acc: 0.9950 - val_loss: 0.9997 - val_acc: 0.8425\n"
     ]
    }
   ],
   "source": [
    "# Validating approach\n",
    "\"\"\"\n",
    "partial_x_train =x_train[:10000]\n",
    "x_val = x_train[10000:]\n",
    "partial_y_train = y_train[:10000]\n",
    "y_val = y_train[10000:]\n",
    "\n",
    "\"\"\"\n",
    "\n",
    "model.compile(optimizer='rmsprop',\n",
    "              loss='binary_crossentropy',\n",
    "              metrics=['acc'])\n",
    "history = model.fit(x_test,\n",
    "                    y_test,\n",
    "                    epochs=20,\n",
    "                    batch_size=512,\n",
    "                    validation_data=(x_train, y_train))\n"
   ]
  },
  {
   "cell_type": "code",
   "execution_count": 11,
   "metadata": {},
   "outputs": [
    {
     "data": {
      "text/plain": [
       "dict_keys(['loss', 'acc', 'val_loss', 'val_acc'])"
      ]
     },
     "execution_count": 11,
     "metadata": {},
     "output_type": "execute_result"
    }
   ],
   "source": [
    "history_dict = history.history\n",
    "history_dict.keys()\n"
   ]
  },
  {
   "cell_type": "code",
   "execution_count": 12,
   "metadata": {},
   "outputs": [
    {
     "data": {
      "image/png": "[encoded data removed]",
      "text/plain": [
       "<Figure size 432x288 with 1 Axes>"
      ]
     },
     "metadata": {
      "needs_background": "light"
     },
     "output_type": "display_data"
    }
   ],
   "source": [
    "# Plotting the training and validation loss\n",
    "\n",
    "import matplotlib.pyplot as plt\n",
    "\n",
    "history_dict = history.history\n",
    "loss_values = history_dict['loss']\n",
    "val_loss_values = history_dict ['val_loss']\n",
    "\n",
    "epochs = range(1, len(history_dict['acc'])+1)\n",
    "\n",
    "plt.plot(epochs, loss_values, 'bo', label='Training loss')\n",
    "plt.plot(epochs, val_loss_values, 'b', label='Validation loss')\n",
    "plt.title('Training and validation loss')\n",
    "plt.xlabel('Epochs')\n",
    "plt.ylabel('Loss')\n",
    "plt.legend()\n",
    "plt.show()"
   ]
  },
  {
   "cell_type": "code",
   "execution_count": 13,
   "metadata": {},
   "outputs": [
    {
     "data": {
      "image/png": "[encoded data removed]",
      "text/plain": [
       "<Figure size 432x288 with 1 Axes>"
      ]
     },
     "metadata": {
      "needs_background": "light"
     },
     "output_type": "display_data"
    }
   ],
   "source": [
    "#Plotting the training and validation accuracy\n",
    "\n",
    "plt.clf()\n",
    "acc = history_dict['acc']\n",
    "val_acc = history_dict['val_acc']\n",
    "plt.plot(epochs, acc, 'bo', label='Training acc')\n",
    "plt.plot(epochs, val_acc, 'b', label='Validation acc')\n",
    "plt.title('Training and validation accuracy')\n",
    "plt.xlabel('Epochs')\n",
    "plt.ylabel('Loss')\n",
    "plt.legend()\n",
    "plt.show()"
   ]
  },
  {
   "cell_type": "code",
   "execution_count": 14,
   "metadata": {},
   "outputs": [
    {
     "ename": "SyntaxError",
     "evalue": "EOF while scanning triple-quoted string literal (<ipython-input-14-c81c768c7a26>, line 18)",
     "output_type": "error",
     "traceback": [
      "\u001b[1;36m  File \u001b[1;32m\"<ipython-input-14-c81c768c7a26>\"\u001b[1;36m, line \u001b[1;32m18\u001b[0m\n\u001b[1;33m    the training set.\u001b[0m\n\u001b[1;37m                     \n^\u001b[0m\n\u001b[1;31mSyntaxError\u001b[0m\u001b[1;31m:\u001b[0m EOF while scanning triple-quoted string literal\n"
     ]
    }
   ],
   "source": [
    "\"\"\"\n",
    "1. we usually need to do quite a bit of preprocessing on our raw data in order to\n",
    "be able to feed it—as tensors—into a neural network. Sequences of words can\n",
    "be encoded as binary vectors, but there are other encoding options, too.\n",
    "\n",
    "2. Stacks of Dense layers with relu activations can solve a wide range of problems\n",
    "(including sentiment classification), and you’ll likely use them frequently.\n",
    "\n",
    "3. In a binary classification problem (two output classes), your network should\n",
    "end with a Dense layer with one unit and a sigmoid activation: the output of\n",
    "your network should be a scalar between 0 and 1, encoding a probability.\n",
    "\n",
    "4 With such a scalar sigmoid output on a binary classification problem, the loss\n",
    "function you should use is binary_crossentropy.\n",
    "\n",
    "5 The rmsprop optimizer is generally a good enough choice, whatever your problem.\n",
    "That’s one less thing for you to worry about.\n",
    "\n",
    "6 As they get better on their training data, neural networks eventually start overfitting\n",
    "and end up obtaining increasingly worse results on data they’ve never\n",
    "seen before. Be sure to always monitor performance on data that is outside of\n",
    "the training set."
   ]
  },
  {
   "cell_type": "code",
   "execution_count": null,
   "metadata": {},
   "outputs": [],
   "source": []
  },
  {
   "cell_type": "code",
   "execution_count": null,
   "metadata": {},
   "outputs": [],
   "source": []
  }
 ],
 "metadata": {
  "kernelspec": {
   "display_name": "Python 3",
   "language": "python",
   "name": "python3"
  },
  "language_info": {
   "codemirror_mode": {
    "name": "ipython",
    "version": 3
   },
   "file_extension": ".py",
   "mimetype": "text/x-python",
   "name": "python",
   "nbconvert_exporter": "python",
   "pygments_lexer": "ipython3",
   "version": "3.7.6"
  }
 },
 "nbformat": 4,
 "nbformat_minor": 4
}
